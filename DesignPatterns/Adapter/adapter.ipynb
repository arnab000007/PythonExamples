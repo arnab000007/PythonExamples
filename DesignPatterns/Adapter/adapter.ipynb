{
 "cells": [
  {
   "cell_type": "markdown",
   "metadata": {},
   "source": [
    "## Key terms"
   ]
  },
  {
   "cell_type": "markdown",
   "metadata": {},
   "source": [
    "## Structural Patterns"
   ]
  },
  {
   "cell_type": "markdown",
   "metadata": {},
   "source": [
    "Structural patterns are design patterns that ease the design by identifying a\n",
    "simple way to realize relationships between entities.\n",
    "\n",
    "Structural patterns are concerned with how classes and objects are composed\n",
    "to form larger structures.\n"
   ]
  },
  {
   "cell_type": "markdown",
   "metadata": {},
   "source": [
    "### Adapter"
   ]
  },
  {
   "cell_type": "markdown",
   "metadata": {},
   "source": [
    "The adapter pattern is a software design pattern (also known as wrapper, an\n",
    "alternative naming shared with the decorator pattern) that allows the interface\n",
    "of an existing class to be used from another interface. It is often used to make\n",
    "existing classes work with others without modifying their source code."
   ]
  },
  {
   "cell_type": "markdown",
   "metadata": {},
   "source": [
    "### Facade\n",
    "\n",
    "A structural design pattern that provides a simplified interface to a library, a\n",
    "framework, or any other complex set of classes."
   ]
  },
  {
   "cell_type": "markdown",
   "metadata": {},
   "source": [
    "## Adapter\n",
    "\n",
    "The adapter pattern is a structural pattern that allows objects with incompatible\n",
    "interfaces to collaborate."
   ]
  },
  {
   "cell_type": "markdown",
   "metadata": {},
   "source": [
    "We come across adapters in our day to day life. For example, we have a 3 pin plug\n",
    "and we want to use it in a 2 pin socket. We can use an adapter to convert the 3 pin\n",
    "plug to a 2 pin plug.\n",
    "\n",
    "So, we use an adapter to allow two incompatible interfaces to work together.\n",
    "Similarly, in software development, we have two incompatible interfaces and we want\n",
    "to use them together. We can use an adapter to convert one interface to another. For\n",
    "instance, we have an API that returns a list of users. Now the request to this API\n",
    "requires a JSON object. Some clients instead of sending a JSON object, want to\n",
    "send an XML object.\n",
    "\n",
    "Should we change the API to accept an XML object? Should we create a new API that\n",
    "accepts an XML object? No, that would be redundant. This is where the adapter\n",
    "pattern comes into play. We can create an adapter that converts the XML object to a\n",
    "JSON object and then use the existing API.\n",
    "\n",
    "You can create an adapter. This is a special object that converts the interface of one\n",
    "object so that another object can understand it.\n",
    "\n",
    "An adapter wraps one of the objects to hide the complexity of conversion happening\n",
    "behind the scenes. The wrapped object isnʼt even aware of the adapter. For example,\n",
    "you can wrap an object that operates in meters and kilometers with an adapter that\n",
    "converts all of the data to imperial units such as feet and miles.\n",
    "\n",
    "Adapters can not only convert data into various formats but can also help objects\n",
    "with different interfaces collaborate. Hereʼs how it works:\n",
    "\n",
    "- The adapter gets an interface, compatible with one of the existing objects.\n",
    "- Using this interface, the existing object can safely call the adapterʼs methods.\n",
    "- Upon receiving a call, the adapter passes the request to the second object, but\n",
    "in a format and order that the second object expects."
   ]
  },
  {
   "cell_type": "markdown",
   "metadata": {},
   "source": [
    "### Problem\n",
    "\n",
    "Let us take the example of payment processing.\n",
    "As a part of our application we want to integrate with different payment gateways.\n",
    "We first use the Stripe payment gateway. The stripe team provides us with a library\n",
    "that we can use to integrate with their payment gateway."
   ]
  },
  {
   "cell_type": "code",
   "execution_count": null,
   "metadata": {},
   "outputs": [],
   "source": [
    "class StripeApi:\n",
    "    def create_payment(self) -> Payment:\n",
    "        # Create payment\n",
    "        pass\n",
    "\n",
    "    def check_status(self, payment_id) -> PaymentStatus:\n",
    "        # Check payment status\n",
    "        pass\n",
    "\n",
    "################################################################\n",
    "# We use the Stripe API to create a payment and check the status of the payment.\n",
    "################################################################\n",
    "\n",
    "def process_payment():\n",
    "    stripe_api = StripeApi()\n",
    "    payment: Payment = stripe_api.create_payment()\n",
    "    status: PaymentStatus = stripe_api.check_status(payment.id)"
   ]
  },
  {
   "cell_type": "markdown",
   "metadata": {},
   "source": [
    "Now we want to integrate with another payment gateway. We use the PayPal\n",
    "payment gateway. The PayPal team provides us with a library that we can use to\n",
    "integrate with their payment gateway."
   ]
  },
  {
   "cell_type": "code",
   "execution_count": null,
   "metadata": {},
   "outputs": [],
   "source": [
    "class PayPalApi:\n",
    "    def make_payment(self) -> Payment:\n",
    "        # Create payment\n",
    "        pass\n",
    "\n",
    "\n",
    "    def get_status(self, payment_id) -> PaymentStatus:\n",
    "        # Check payment status\n",
    "        pass\n",
    "    "
   ]
  },
  {
   "cell_type": "markdown",
   "metadata": {},
   "source": [
    "As you can see, the Stripe API and the PayPal API have different method names. The\n",
    "Stripe API uses create_payment and check_status while the PayPal API uses\n",
    "make_payment and get_status .\n",
    "\n",
    "Should we change where we use the Stripe API to use the PayPal API? No, that would\n",
    "be redundant. That would require us to change the code in multiple places. Apart\n",
    "from the additional work, it would also increase the chances of introducing bugs.\n",
    "Also, when we want to switch back to the Stripe API, we would have to change the\n",
    "code again. Hence, our code is also violating SRP and OCP. We are also using\n",
    "concrete classes instead of interfaces. This makes our code tightly coupled."
   ]
  },
  {
   "cell_type": "markdown",
   "metadata": {},
   "source": [
    "### Implementation"
   ]
  },
  {
   "cell_type": "markdown",
   "metadata": {},
   "source": [
    "#### 1. **Incompatible classes**\n",
    "\n",
    "You should have two classes that have incompatible\n",
    "interfaces. For example, the Stripe API and the PayPal API."
   ]
  },
  {
   "cell_type": "code",
   "execution_count": null,
   "metadata": {},
   "outputs": [],
   "source": [
    "class StripeApi:\n",
    "    def create_payment(self) -> Payment:\n",
    "        # Create payment\n",
    "        pass\n",
    "\n",
    "    def check_status(self, payment_id) -> PaymentStatus:\n",
    "        # Check payment status\n",
    "        pass\n",
    "\n",
    "class PayPalApi:\n",
    "    def make_payment(self) -> Payment:\n",
    "        # Create payment\n",
    "        pass\n",
    "\n",
    "    def get_status(self, payment_id) -> PaymentStatus:\n",
    "        # Check payment status\n",
    "        pass"
   ]
  },
  {
   "cell_type": "markdown",
   "metadata": {},
   "source": [
    "#### 2. **Adapter interface**\n",
    "\n",
    "Create an interface for the adapter that will be used to\n",
    "convert the incompatible interfaces."
   ]
  },
  {
   "cell_type": "code",
   "execution_count": null,
   "metadata": {},
   "outputs": [],
   "source": [
    "from abc import ABC, abstractmethod\n",
    "class PaymentProvider(ABC):\n",
    "    @abstractmethod\n",
    "    def make_payment(self) -> Payment:\n",
    "        pass\n",
    "    \n",
    "    @abstractmethod\n",
    "    def get_status(self, payment_id) -> PaymentStatus:\n",
    "        pass"
   ]
  },
  {
   "cell_type": "markdown",
   "metadata": {},
   "source": [
    "#### 3. **Concrete adapter classes**\n",
    "\n",
    "Create a class that implements the target\n",
    "interface. This is the class that the client code expects to work with. The adapter\n",
    "will convert the interface of the existing class to this interface."
   ]
  },
  {
   "cell_type": "code",
   "execution_count": null,
   "metadata": {},
   "outputs": [],
   "source": [
    "class StripeAdapter(PaymentProvider):\n",
    "    def make_payment(self) -> Payment:\n",
    "        # Create payment\n",
    "        pass\n",
    "\n",
    "    def get_status(self, payment_id) -> PaymentStatus:\n",
    "        # Check payment status\n",
    "        pass\n",
    "\n",
    "class PayPalAdapter(PaymentProvider):\n",
    "    def make_payment(self) -> Payment:\n",
    "        # Create payment\n",
    "        pass\n",
    "\n",
    "    def get_status(self, payment_id) -> PaymentStatus:\n",
    "        # Check payment status\n",
    "        pass"
   ]
  },
  {
   "cell_type": "markdown",
   "metadata": {},
   "source": [
    "#### 4. **Transform request and delegate to original class**\n",
    "\n",
    "In the adapter class,\n",
    "transform the request to the format that the original class expects. Then, call the original class to perform the operation."
   ]
  },
  {
   "cell_type": "code",
   "execution_count": null,
   "metadata": {},
   "outputs": [],
   "source": [
    "class StripeAdapter(PaymentProvider):\n",
    "    def __init__(self):\n",
    "        self.stripe_api = StripeApi()\n",
    "\n",
    "    def make_payment(self) -> Payment:\n",
    "        return self.stripe_api.create_payment()\n",
    "    \n",
    "    def get_status(self, payment_id) -> PaymentStatus:\n",
    "        status = self.stripe_api.check_status(payment_id)\n",
    "        return convert_status(status)"
   ]
  },
  {
   "cell_type": "markdown",
   "metadata": {},
   "source": [
    "#### 5. **Client Code**\n",
    "\n",
    "The client code expects to work with the target interface. The\n",
    "client code doesnʼt know that the adapter is converting the interface of the\n",
    "original class.\n"
   ]
  },
  {
   "cell_type": "code",
   "execution_count": null,
   "metadata": {},
   "outputs": [],
   "source": [
    "class PaymentProcessor:\n",
    "    def __init__(self, payment_provider: PaymentProvider):\n",
    "        self.payment_provider = payment_provider\n",
    "        \n",
    "    def process_payment(self):\n",
    "        payment = self.payment_provider.make_payment()\n",
    "        status: PaymentStatus = self.payment_provider.get_status(payment.id)"
   ]
  },
  {
   "cell_type": "markdown",
   "metadata": {},
   "source": [
    "#### Advantages\n",
    "\n",
    "- You can use adapters to reuse existing classes with incompatible interfaces.\n",
    "- You can even modify the request and response of the original classes.\n",
    "\n",
    "- Single Responsibility Principle. You can separate the interface or data\n",
    "conversion code from the primary business logic of the program.\n",
    "- Open/Closed Principle. You can introduce new types of adapters into the\n",
    "program without breaking the existing client code, as long as they work with the\n",
    "adapters through the target interface."
   ]
  }
 ],
 "metadata": {
  "kernelspec": {
   "display_name": "Python 3",
   "language": "python",
   "name": "python3"
  },
  "language_info": {
   "name": "python",
   "version": "3.10.11"
  }
 },
 "nbformat": 4,
 "nbformat_minor": 2
}
