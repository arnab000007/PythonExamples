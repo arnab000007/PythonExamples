{
 "cells": [
  {
   "cell_type": "markdown",
   "metadata": {},
   "source": [
    "## Prototype design pattern"
   ]
  },
  {
   "cell_type": "markdown",
   "metadata": {},
   "source": [
    "### Key terms"
   ]
  },
  {
   "cell_type": "markdown",
   "metadata": {},
   "source": [
    "#### Prototype"
   ]
  },
  {
   "cell_type": "markdown",
   "metadata": {},
   "source": [
    "<div style=\"border: 2px solid lightgrey;padding:5px;\">\n",
    "    <div>\n",
    "The prototype pattern is a creational design pattern that can be used to create\n",
    "objects that are similar to each other. The pattern is used to avoid the cost of creating\n",
    "new objects by cloning an existing object and avoiding dependencies on the class of\n",
    "        the object that needs to be cloned.</div><br>\n",
    "    <div>\n",
    "    Prototype allows us to hide the complexity of making new instances from the client.\n",
    "The concept is to copy an existing object rather than creating a new instance from\n",
    "scratch, something that may include costly operations. The existing object acts as a\n",
    "prototype and contains the state of the object. The newly copied object may change\n",
    "same properties only if required. This approach saves costly resources and time,\n",
    "especially when object creation is a heavy process.\n",
    "</div>"
   ]
  },
  {
   "cell_type": "markdown",
   "metadata": {},
   "source": [
    "Let us say we have to create a new User API and we want to test it. To test it, we need to\n",
    "create a new user. We can create a new user by using the constructor.\n",
    "\n",
    "**user: User = User(1, \"John\", \"Doe\", \"john@doe.in\", \"1234567890\")**\n",
    "\n",
    "We might be calling a separate API to get these random values for the user. So each time\n",
    "we want to create a new user we have to call the API. Letʼs try to simulate with a sleep of 5\n",
    "seconds."
   ]
  },
  {
   "cell_type": "code",
   "execution_count": 8,
   "metadata": {},
   "outputs": [],
   "source": [
    "from time import sleep\n",
    "class User:\n",
    "    def __init__(self, id: int, first_name: str, last_name: str, email: str, phone):\n",
    "        self.id = id\n",
    "        self.first_name = first_name\n",
    "        self.last_name = last_name\n",
    "        self.email = email\n",
    "        self.phone = phone\n",
    "        sleep(5) # Simulate API call"
   ]
  },
  {
   "cell_type": "markdown",
   "metadata": {},
   "source": [
    "The above piece of code initializes the user object with the given values and then sleeps\n",
    "for 5 seconds to simulate an API call. Every time we have to create a new user, we have to\n",
    "call the API and wait for 5 seconds. This can be costly if we have to create a lot of users.\n",
    "Similarly, there can be many similar use cases where we have to create a new object from\n",
    "scratch, and it can be costly to do so. \n",
    "Few examples are:\n",
    "- Calling an API to either get the values for the fields or to perform some other costly\n",
    "operations.\n",
    "- Creating a large object that requires a lot of memory.\n",
    "- Creating an object that requires a lot of time to initialize.\n",
    "- Performing a lot of calculations to create an object.\n",
    "\n",
    "The prototype pattern can be used to avoid this cost by cloning an existing object and\n",
    "modifying the fields that are necessary."
   ]
  },
  {
   "cell_type": "markdown",
   "metadata": {},
   "source": [
    "#### Cloning"
   ]
  },
  {
   "cell_type": "markdown",
   "metadata": {},
   "source": [
    "Cloning an object is the process of creating a new object with the same values as the\n",
    "existing object. The existing object is known as the prototype. The newly created object is\n",
    "known as the clone. The clone can then be modified as per the needs of the client code.\n",
    "The prototype pattern can be used to avoid the cost of creating new objects by cloning an\n",
    "existing object and modifying the fields that are necessary.\n",
    "\n",
    "There are two ways to clone an object:\n",
    "1. **Shallow copy** - A shallow copy of an object copies all the fields of the object to the\n",
    "new object. If the field is a primitive type, then a new copy of the primitive type is\n",
    "created and assigned to the new object. If the field is a reference type, then the\n",
    "reference to the object is copied to the new object. This means that the new object\n",
    "and the existing object will be pointing to the same object. Any changes made to the\n",
    "object will be reflected in both the objects.\n",
    "2. **Deep copy** - A deep copy of an object copies all the fields of the object to the new\n",
    "object. The difference between a shallow copy and a deep copy is that in a deep copy,\n",
    "a field of reference type is also cloned. This means that the new object and the\n",
    "\n",
    "existing object will be pointing to different objects. Any changes made to the object\n",
    "will not be reflected in both the objects."
   ]
  },
  {
   "cell_type": "markdown",
   "metadata": {},
   "source": [
    "<div style=\"border: 2px solid lightgrey;padding:5px;\">\n",
    "<b>Difference between shallow copy and deep copy</b>\n",
    "<ul>\n",
    "    <li>A shallow copy is much faster than a deep copy since it does not have to clone\n",
    "the fields of reference type.</li>    \n",
    "    <li>A deep copy is much slower, but it is safer since the new object and the existing\n",
    "object will be pointing to different objects and any changes made to the object\n",
    "will not be reflected in both the objects.</li></ul>\n",
    "    \n",
    "<div>If you have an object with fields of primitive types, then you can use a shallow copy. If\n",
    "you have an object with fields of reference types and require consistency between the\n",
    "        objects, then you can use a deep copy.</div>\n",
    "</div>"
   ]
  },
  {
   "cell_type": "markdown",
   "metadata": {},
   "source": [
    "## Steps to implement the prototype pattern"
   ]
  },
  {
   "cell_type": "markdown",
   "metadata": {},
   "source": [
    "### Step 1 - Create a cloneable interface\n",
    "\n",
    "Create a common base class for all the objects that can be cloned. This class will contain\n",
    "the clone() method that will be used to clone the object."
   ]
  },
  {
   "cell_type": "code",
   "execution_count": 5,
   "metadata": {},
   "outputs": [],
   "source": [
    "from abc import ABC, abstractmethod\n",
    "class Cloneable(ABC):\n",
    "    @abstractmethod\n",
    "    def clone(self):\n",
    "        pass"
   ]
  },
  {
   "cell_type": "markdown",
   "metadata": {},
   "source": [
    "### Step 2 - Implement the cloneable interface\n",
    "\n",
    "Create a concrete class that implements the clone() method. These are the classes of\n",
    "the objects that can be cloned. For us, it is the User class."
   ]
  },
  {
   "cell_type": "code",
   "execution_count": 10,
   "metadata": {},
   "outputs": [],
   "source": [
    "import copy\n",
    "class User(Cloneable):\n",
    "    def __init__(self, id: int, first_name: str, last_name: str, email: str, phone):\n",
    "        self.id = id\n",
    "        self.first_name = first_name\n",
    "        self.last_name = last_name\n",
    "        self.email = email\n",
    "        self.phone = phone\n",
    "        sleep(5) # Simulate API call\n",
    "        \n",
    "    def clone(self) -> User:\n",
    "        return copy.deepcopy(self)"
   ]
  },
  {
   "cell_type": "markdown",
   "metadata": {},
   "source": [
    "<div class=\"alert alert-block alert-info\">\n",
    "    <p>The copy module provides a <b>deepcopy()</b> and <b>copy()</b> method that can be used to\n",
    "    create a deep copy and a shallow copy of an object respectively.</p>\n",
    "<p>It uses a default implementation of the <b>__deepcopy__()</b> and <b>__copy__()</b> methods to\n",
    "create a deep copy and a shallow copy of an object respectively. The deepcopy()\n",
    "method recursively copies all the fields of the object. The copy() method copies only\n",
    "the fields of primitive types. If the field is a reference type, then the reference to the\n",
    "object is copied to the new object.</p>\n",
    "<p>You can override the <b>__deepcopy__()</b> and <b>__copy__()</b> methods to create a custom\n",
    "implementation of the deepcopy() and copy() methods respectively.</p>\n",
    "</div>"
   ]
  },
  {
   "cell_type": "markdown",
   "metadata": {},
   "source": [
    "### Step 3 - Clone the prototype and modify it\n",
    "\n",
    "Now we can create an object of the User class and clone it. The clone will be a new\n",
    "object with the same values as the existing object. The clone can then be modified as per\n",
    "the needs of the client code. Here, the initial object is known as the prototype and the\n",
    "newly created object is known as the clone."
   ]
  },
  {
   "cell_type": "code",
   "execution_count": 11,
   "metadata": {},
   "outputs": [],
   "source": [
    "# Create the prototype\n",
    "prototype: User = User(1, \"John\", \"Doe\", \"john@doe.in\", \"1234567890\")\n",
    "# Clone the prototype\n",
    "clone: User = prototype.clone()\n",
    "# Modify the clone\n",
    "clone.id = 2"
   ]
  },
  {
   "cell_type": "markdown",
   "metadata": {},
   "source": [
    "Apart from reducing the cost of creating new objects, the prototype pattern also helps\n",
    "in reducing the complexity of creating new objects.\n",
    "\n",
    "The client code does not have to deal with the complexity of creating new objects. It\n",
    "can simply clone the existing object and modify it as per its needs. The client code\n",
    "does not have a dependency on the class of the object that it is cloning."
   ]
  },
  {
   "cell_type": "markdown",
   "metadata": {},
   "source": [
    "### Prototype Registry"
   ]
  },
  {
   "cell_type": "markdown",
   "metadata": {},
   "source": [
    "A recurring requirement would be to have a place to store all the prototypes. You would\n",
    "not want to create a new prototype every time you need to clone an object.\n",
    "\n",
    "The prototype pattern can be extended to use a registry of pre-defined prototypes. The\n",
    "registry can be used to store a set of prototypes. The client code can then request a clone\n",
    "of a prototype from the registry instead of creating a new object from scratch. The registry\n",
    "can be implemented as a key-value store where the key is the name of the prototype and\n",
    "the value is the prototype object.\n",
    "\n",
    "For example, we might want to create different types of users. A user with a Student role,\n",
    "a user with a Teacher role, and a user with an Admin role. Each such different type of\n",
    "user might have some fields that are specific to the type so the fields to be copied might\n",
    "be different. We can create a registry of pre-defined prototypes for each of these roles.\n",
    "\n",
    "We start by creating a UserRegistry interface that contains the **get_prototype()** and\n",
    "**add_prototype()** methods. The **get_prototype()** method is used to get a prototype\n",
    "from the registry. The **add_prototype()** method is used to add a prototype to the registry.\n",
    "We can also add utility method **clone()** which will clone the prototype and return the\n",
    "clone."
   ]
  },
  {
   "cell_type": "code",
   "execution_count": 13,
   "metadata": {},
   "outputs": [],
   "source": [
    "from abc import ABC, abstractmethod\n",
    "from typing import Optional\n",
    "class UserRegistry(ABC):\n",
    "    @abstractmethod\n",
    "    def get_prototype(self, role: str) -> Optional[User]:\n",
    "        pass\n",
    "    \n",
    "    @abstractmethod\n",
    "    def add_prototype(self, role: str, user: User) -> None:\n",
    "        pass\n",
    "    \n",
    "    def clone(self, role: str) -> Optional[User]:\n",
    "        prototype = self.get_prototype(role)\n",
    "        if prototype is None:\n",
    "            raise Exception(f\"Prototype with role {role} not found\")\n",
    "        return prototype.clone()"
   ]
  },
  {
   "cell_type": "markdown",
   "metadata": {},
   "source": [
    "Now we can implement the UserRegistry interface to create a concrete class that\n",
    "implements the **get_prototype()** and **add_prototype()** methods. This class will be used\n",
    "to store the prototypes in a dictionary. The key of the map will be the role of the user and\n",
    "the value will be the prototype object."
   ]
  },
  {
   "cell_type": "code",
   "execution_count": 14,
   "metadata": {},
   "outputs": [],
   "source": [
    "class UserRegistryImpl(UserRegistry):\n",
    "    def __init__(self):\n",
    "        self.prototypes: dict[str, User] = {}\n",
    "            \n",
    "    def get_prototype(self, role: str) -> Optional[User]:\n",
    "        if role not in self.prototypes:\n",
    "            return None\n",
    "        return self.prototypes[role]\n",
    "    \n",
    "    def add_prototype(self, role: str, user: User) -> None:\n",
    "        self.prototypes[role] = user"
   ]
  },
  {
   "cell_type": "markdown",
   "metadata": {},
   "source": [
    "**The client code can request a prototype from the registry, clone it, and modify it as per its\n",
    "needs.**"
   ]
  },
  {
   "cell_type": "code",
   "execution_count": 15,
   "metadata": {},
   "outputs": [],
   "source": [
    "# Create the registry\n",
    "registry: UserRegistry = UserRegistryImpl()\n",
    "# Create the prototypes\n",
    "prototype: User = User(1, \"John\", \"Doe\", \"john@doe.in\", \"1234567890\")\n",
    "# Add the prototypes to the registry\n",
    "registry.add_prototype(\"student\", prototype)\n",
    "# Clone the prototype\n",
    "clone: User = registry.clone(\"student\")\n",
    "clone.id = 2"
   ]
  },
  {
   "cell_type": "markdown",
   "metadata": {},
   "source": [
    "### Summary"
   ]
  },
  {
   "cell_type": "markdown",
   "metadata": {},
   "source": [
    "- The prototype pattern is a creational design pattern that can be used to create objects\n",
    "that are similar to each other.\n",
    "- Recreating an object from scratch can be costly as we might have to call an API to get\n",
    "the values for the fields or to perform some other costly operations. The prototype\n",
    "pattern can be used to avoid this cost by cloning an existing object and modifying the\n",
    "fields that are necessary.\n",
    "- Also, the client code does not have to deal with the complexity of creating new\n",
    "objects. It can simply clone the existing object and modify it as per its needs.\n",
    "- To implement the prototype pattern, we follow these steps:\n",
    "    1. **Clonable interface** - Create a common interface for all the objects that can be\n",
    "cloned.\n",
    "    2. **Object class** - Create a concrete class that implements the common interface\n",
    "and overrides the clone() method.\n",
    "    3. **Registry** - Create a registry of pre-defined prototypes with register and get\n",
    "methods.\n",
    "    4. **Prototype** - Create a prototype object and store in the registry.\n",
    "    5. **Clone** - Request a clone of the prototype from the registry and modify it as per\n",
    "its needs."
   ]
  },
  {
   "cell_type": "code",
   "execution_count": null,
   "metadata": {},
   "outputs": [],
   "source": []
  }
 ],
 "metadata": {
  "kernelspec": {
   "display_name": "Python 3",
   "language": "python",
   "name": "python3"
  },
  "language_info": {
   "codemirror_mode": {
    "name": "ipython",
    "version": 3
   },
   "file_extension": ".py",
   "mimetype": "text/x-python",
   "name": "python",
   "nbconvert_exporter": "python",
   "pygments_lexer": "ipython3",
   "version": "3.8.3"
  }
 },
 "nbformat": 4,
 "nbformat_minor": 2
}
