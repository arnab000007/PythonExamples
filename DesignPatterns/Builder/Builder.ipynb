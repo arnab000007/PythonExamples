{
 "cells": [
  {
   "cell_type": "markdown",
   "metadata": {},
   "source": [
    "## Builder\n",
    "Builder is a creational design pattern that lets you construct complex objects step by\n",
    "step. The pattern allows you to produce different types and representations of an\n",
    "object using the same construction code.\n"
   ]
  },
  {
   "cell_type": "markdown",
   "metadata": {},
   "source": [
    "### Problems\n",
    "\n",
    "**Complex object creation** - There are multiple ways to create an object, but\n",
    "constructors are the primary technique used for creating instances of a class.\n",
    "However, constructors become unmanageable when there is a need to create an\n",
    "object with many parameters. This is known as the telescoping constructor antipattern. The telescoping constructor anti-pattern is a code smell that indicates that\n",
    "the class has too many constructors. This is a code smell because it is difficult to\n",
    "maintain and extend the class.\n",
    "\n",
    "**Validation and failing object creation** - There are cases when you want to\n",
    "validate the parameters before creating an object. For example, you might want to\n",
    "validate the parameters before creating a database connection. If the parameters are\n",
    "invalid, you might want to throw an exception. However, if we use the default\n",
    "constructor, we cannot fail object creation.\n",
    "\n",
    "**Immutability** - Mutable objects are objects whose state can be changed after they\n",
    "are created. Immutable objects are objects whose state cannot be changed after they\n",
    "are created. Immutable objects are easier to maintain and extend whereas mutable\n",
    "objects can lead to bugs. However, if we use the default constructor, we cannot create\n",
    "immutable objects.\n"
   ]
  },
  {
   "cell_type": "markdown",
   "metadata": {},
   "source": [
    "### Constructor with a hash map\n",
    "The above problems can be solved using a constructor with a hash map. The constructor\n",
    "will take a hash map as a parameter. The hash map will contain the parameters and their\n",
    "values. The constructor will validate the parameters and create the object.\n"
   ]
  },
  {
   "cell_type": "code",
   "execution_count": 1,
   "metadata": {},
   "outputs": [],
   "source": [
    "class Database:\n",
    "    def __init__(self, config):\n",
    "        self.host = config.get(\"host\")\n",
    "        self.port = config.get(\"port\")\n",
    "        self.username = config.get(\"username\")\n",
    "        self.password = config.get(\"password\")"
   ]
  },
  {
   "cell_type": "markdown",
   "metadata": {},
   "source": [
    "**Some problems with the above code are:**\n",
    "\n",
    "**Type safety -** Python is a dynamically typed language. This means that the type of a\n",
    "variable is inferred at runtime. This allows us to pass any type of value to the\n",
    "constructor. However, it could lead to bugs. For example, if we pass a string instead of\n",
    "an integer, the code will not fail until we try to use the port variable.\n",
    "\n",
    "**Defined parameters -** With the above approach, identifying the parameters is\n",
    "difficult. We need to read the code to identify the parameters. This is not a good\n",
    "approach because it is difficult to maintain and extend the code."
   ]
  },
  {
   "cell_type": "markdown",
   "metadata": {},
   "source": [
    "### Named parameters\n",
    "\n",
    "In Python, you can use named parameters to solve the above problems. Named\n",
    "parameters allow you to pass parameters to a function using the parameter name. This\n",
    "enables us to pass any permutation of parameters to the constructor and out of order."
   ]
  },
  {
   "cell_type": "code",
   "execution_count": 7,
   "metadata": {},
   "outputs": [],
   "source": [
    "class Database:\n",
    "    def __init__(self, host, port, username=None, password=None):\n",
    "        self.host = host\n",
    "        self.port = port\n",
    "        self.username = username\n",
    "        self.password = password\n",
    "\n",
    "database = Database(host=\"localhost\", port=3306)"
   ]
  },
  {
   "cell_type": "markdown",
   "metadata": {},
   "source": [
    "**While this approach solves the problems associated with passing a lot of unnecessary\n",
    "parameters and ensuring they are passed in order, however it requires you to put business\n",
    "logic in the constructor. This is not a good approach because it is difficult to maintain and\n",
    "extend the code. For example, if you would like to validate if the host is reachable or not\n",
    "before creating the object, you would have to add the validation logic to the constructor.\n",
    "Putting business logic in the constructor is an anti-pattern since it makes the code difficult\n",
    "to maintain and extend.**"
   ]
  },
  {
   "cell_type": "code",
   "execution_count": null,
   "metadata": {},
   "outputs": [],
   "source": [
    "class Database:\n",
    "    def __init__(self, host, port, username, password):\n",
    "        if not self.is_host_reachable(host):\n",
    "            raise Exception(\"Host is not reachable\")\n",
    "        self.host = host\n",
    "        self.port = port\n",
    "        self.username = username\n",
    "        self.password = password\n",
    "    def is_host_reachable(self, host):\n",
    "    # Check if host is reachable\n",
    "        return True"
   ]
  },
  {
   "cell_type": "markdown",
   "metadata": {},
   "source": [
    "## Inner class\n",
    "The builder pattern addresses this issue by stating\n",
    "Separate the construction of a complex object from its representation so that the\n",
    "same construction process can create different representations.\n",
    "This essentially means decoupling the construction of a complex object from its\n",
    "representation. The builder pattern is a creational design pattern that lets you construct\n",
    "complex objects, step by step. The pattern allows you to produce different types and\n",
    "representations of an object using the same construction code."
   ]
  },
  {
   "cell_type": "markdown",
   "metadata": {},
   "source": [
    "### Step 1 - Add an inner builder class"
   ]
  },
  {
   "cell_type": "code",
   "execution_count": 1,
   "metadata": {},
   "outputs": [],
   "source": [
    "from attr import dataclass\n",
    "\n",
    "@dataclass\n",
    "class Database:\n",
    "    host: str\n",
    "    port: int\n",
    "    username: str\n",
    "    password: str\n",
    "    class Builder:\n",
    "        def __init__(self):\n",
    "            self.host = None\n",
    "            self.port = None\n",
    "            self.username = None\n",
    "            self.password = None"
   ]
  },
  {
   "cell_type": "markdown",
   "metadata": {},
   "source": [
    "In the above code, we have created a builder class inside the Database class. The builder\n",
    "class has the same parameters as the Database class. This allows us to modify the inner\n",
    "class till we are ready to create the object.\n",
    "\n",
    "You can add a utility method to the outer class so that the developer can create the builder\n",
    "class instance using the outer class."
   ]
  },
  {
   "cell_type": "code",
   "execution_count": 2,
   "metadata": {},
   "outputs": [],
   "source": [
    "@dataclass\n",
    "class Database:\n",
    "    host: str\n",
    "    port: int\n",
    "    username: str\n",
    "    password: str\n",
    "\n",
    "    @staticmethod\n",
    "    def builder():\n",
    "        return Builder()\n",
    "\n",
    "    class Builder:\n",
    "        def __init__(self):\n",
    "            self.host = None\n",
    "            self.port = None\n",
    "            self.username = None\n",
    "            self.password = None"
   ]
  },
  {
   "cell_type": "markdown",
   "metadata": {},
   "source": [
    "Now when you call the builder method, it will return the builder class instance. You can use\n",
    "this instance to set the parameters and build the object."
   ]
  },
  {
   "cell_type": "markdown",
   "metadata": {},
   "source": [
    "### Step 2 - Add the setters\n",
    "\n",
    "As mentioned, the idea with the builder pattern is to separate the construction of a\n",
    "complex object from its representation. We have already created the builder class. We will\n",
    "use this class to set the parameters. Once the parameters are set, you can get the object\n",
    "of the outer class. Letʼs add the setters to the builder class."
   ]
  },
  {
   "cell_type": "code",
   "execution_count": null,
   "metadata": {},
   "outputs": [],
   "source": [
    "@dataclass\n",
    "class Database:\n",
    "    host: str\n",
    "    port: int\n",
    "    username: str\n",
    "    password: str\n",
    "\n",
    "    @staticmethod\n",
    "    def builder():\n",
    "        return Builder()\n",
    "\n",
    "    class Builder:\n",
    "        def __init__(self):\n",
    "            self.host = None\n",
    "            self.port = None\n",
    "            self.username = None\n",
    "            self.password = None\n",
    "\n",
    "        def host(self, host):\n",
    "            self.host = host\n",
    "\n",
    "        def port(self, port):\n",
    "            self.port = port\n",
    "\n",
    "        def username(self, username):\n",
    "            self.username = username\n",
    "\n",
    "        def password(self, password):\n",
    "            self.password = password\n",
    "\n",
    "### The above code can be used to set parameters as follows:\n",
    "\n",
    "builder = Database.builder()\n",
    "builder.host(\"localhost\")\n",
    "builder.port(3306)\n",
    "builder.username(\"root\")\n",
    "builder.password(\"password\")"
   ]
  },
  {
   "cell_type": "markdown",
   "metadata": {},
   "source": [
    "To improve the readability and usability of the code, you can return the builder class\n",
    "instance from the setter methods.\n",
    "\n",
    "This will allow you to chain the setter methods."
   ]
  },
  {
   "cell_type": "code",
   "execution_count": null,
   "metadata": {},
   "outputs": [],
   "source": [
    "@dataclass\n",
    "class Database:\n",
    "    host: str\n",
    "    port: int\n",
    "    username: str\n",
    "    password: str\n",
    "\n",
    "    @staticmethod\n",
    "    def builder():\n",
    "        return Builder()\n",
    "\n",
    "    class Builder:\n",
    "        def __init__(self):\n",
    "            self.host = None\n",
    "            self.port = None\n",
    "            self.username = None\n",
    "            self.password = None\n",
    "\n",
    "        def host(self, host) -> Builder:\n",
    "            self.host = host\n",
    "            return self\n",
    "\n",
    "        def port(self, port)-> Builder:\n",
    "            self.port = port\n",
    "            return self\n",
    "\n",
    "        def username(self, username) -> Builder:\n",
    "            self.username = username\n",
    "            return self\n",
    "\n",
    "        def password(self, password) -> Builder:\n",
    "            self.password = password\n",
    "            return self\n",
    "\n",
    "### The above code can be used to set parameters as follows:\n",
    "\n",
    "builder = Database.builder()\\\n",
    "    .host(\"localhost\")\\\n",
    "    .port(3306)\\\n",
    "    .username(\"root\")\\\n",
    "    .password(\"password\")\n",
    "\n",
    "\n",
    "### This makes our code more readable and usable."
   ]
  },
  {
   "cell_type": "markdown",
   "metadata": {},
   "source": [
    "### Step 3 - Add the build method\n",
    "\n",
    "Once we have set the parameters, we need to create the object. We will add a build\n",
    "method to the builder class. This method will create the object of the outer class."
   ]
  },
  {
   "cell_type": "code",
   "execution_count": null,
   "metadata": {},
   "outputs": [],
   "source": [
    "@dataclass\n",
    "class Database:\n",
    "    host: str\n",
    "    port: int\n",
    "    username: str\n",
    "    password: str\n",
    "\n",
    "    @staticmethod\n",
    "    def builder():\n",
    "        return Builder()\n",
    "    \n",
    "    class Builder:\n",
    "\n",
    "        ################################\n",
    "        # Place holder for other methods\n",
    "        ################################\n",
    "        def build(self) -> Database:\n",
    "            return Database(\n",
    "                host=self.host,\n",
    "                port=self.port,\n",
    "                username=self.username,\n",
    "                password=self.password\n",
    "            )"
   ]
  },
  {
   "cell_type": "markdown",
   "metadata": {},
   "source": [
    "The build method can be thought as of a lifecycle method or a hook that should be called\n",
    "at the end of the builder chain. The build method will return the object of the outer class\n",
    "with the parameters set. You can now also add validation logic to the build method."
   ]
  },
  {
   "cell_type": "code",
   "execution_count": null,
   "metadata": {},
   "outputs": [],
   "source": [
    "@dataclass\n",
    "class Database:\n",
    "    host: str\n",
    "    port: int\n",
    "    username: str\n",
    "    password: str\n",
    "\n",
    "    @staticmethod\n",
    "    def builder():\n",
    "        return Builder()\n",
    "    \n",
    "    class Builder:\n",
    "\n",
    "        ################################\n",
    "        # Place holder for other methods\n",
    "        ################################\n",
    "        def build(self) -> Database:\n",
    "\n",
    "            ################################\n",
    "            # Placeholder for validation\n",
    "            ################################\n",
    "            return Database(\n",
    "                host=self.host,\n",
    "                port=self.port,\n",
    "                username=self.username,\n",
    "                password=self.password\n",
    "            )"
   ]
  },
  {
   "cell_type": "markdown",
   "metadata": {},
   "source": [
    "**Now you can create the object as follows:**"
   ]
  },
  {
   "cell_type": "code",
   "execution_count": null,
   "metadata": {},
   "outputs": [],
   "source": [
    "database = Database.builder()\\\n",
    "    .host(\"localhost\")\\\n",
    "    .port(3306)\\\n",
    "    .username(\"root\")\\\n",
    "    .password(\"password\")\\\n",
    "    .build()"
   ]
  },
  {
   "cell_type": "markdown",
   "metadata": {},
   "source": [
    "With the above code, we have solved the problems associated with creating complex\n",
    "objects. We can now create objects with any permutation of parameters. We can also\n",
    "validate the parameters and fail object creation and all of this without putting business\n",
    "logic in the constructor."
   ]
  },
  {
   "cell_type": "markdown",
   "metadata": {},
   "source": [
    "**Final Code**"
   ]
  },
  {
   "cell_type": "code",
   "execution_count": null,
   "metadata": {},
   "outputs": [],
   "source": [
    "@dataclass\n",
    "class Database:\n",
    "    host: str\n",
    "    port: int\n",
    "    username: str\n",
    "    password: str\n",
    "\n",
    "    @staticmethod\n",
    "    def builder():\n",
    "        return Builder()\n",
    "    \n",
    "    class Builder:\n",
    "        def __init__(self):\n",
    "            self._host = None\n",
    "            self._port = None\n",
    "            self._username = None\n",
    "            self._password = None\n",
    "\n",
    "        def host(self, host: str) -> Builder:\n",
    "            self._host = host\n",
    "            return self\n",
    "        \n",
    "        def port(self, port: int) -> Builder:\n",
    "            self._port = port\n",
    "            return self\n",
    "        \n",
    "        def username(self, username: str) -> Builder:\n",
    "            self._username = username\n",
    "            return self\n",
    "        \n",
    "        def password(self, password: str) -> Builder:\n",
    "            self._password = password\n",
    "            return self\n",
    "        \n",
    "        def build(self) -> Database:\n",
    "            self.validate()\n",
    "            return Database(\n",
    "            host=self._host,\n",
    "            port=self._port,\n",
    "            username=self._username,\n",
    "            password=self._password\n",
    "            )\n",
    "        \n",
    "        def validate(self) -> None:\n",
    "\n",
    "            if not self.is_host_reachable(self._host):\n",
    "                raise Exception(\"Host is not reachable\")"
   ]
  }
 ],
 "metadata": {
  "kernelspec": {
   "display_name": "Python 3",
   "language": "python",
   "name": "python3"
  },
  "language_info": {
   "codemirror_mode": {
    "name": "ipython",
    "version": 3
   },
   "file_extension": ".py",
   "mimetype": "text/x-python",
   "name": "python",
   "nbconvert_exporter": "python",
   "pygments_lexer": "ipython3",
   "version": "3.10.11"
  }
 },
 "nbformat": 4,
 "nbformat_minor": 2
}
