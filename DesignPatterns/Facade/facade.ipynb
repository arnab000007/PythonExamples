{
 "cells": [
  {
   "cell_type": "markdown",
   "metadata": {},
   "source": [
    "## Facade\n",
    "\n",
    "Facade is a structural design pattern that provides a simplified interface to a\n",
    "library, a framework, or any other complex set of classes."
   ]
  },
  {
   "cell_type": "markdown",
   "metadata": {},
   "source": [
    "Facade means “face” in French. It is a front-facing building that is the main entrance\n",
    "to a building. The facade is the first thing that a visitor sees when they enter a\n",
    "building. The facade hides the complexity of the building from the visitor. The facade\n",
    "provides a simple interface to the building. The facade is a single point of entry to\n",
    "the building."
   ]
  },
  {
   "cell_type": "markdown",
   "metadata": {},
   "source": [
    "### Problem\n",
    "\n",
    "Let us take the example of an e-commerce application. The application has a lot of\n",
    "functionality. It has a product catalog, a shopping cart, a payment system, a shipping\n",
    "system, etc. The application has a lot of classes and a lot of dependencies between\n",
    "them. The application is complex and it is hard to understand how all the classes\n",
    "work together. When you make an order, you have to do the following:\n",
    "\n",
    "- Call payment gateway to charge the credit card.\n",
    "- Update the inventory.\n",
    "- Email the customer.\n",
    "- Add the order to the shipping queue.\n",
    "- Update analytics.\n",
    "\n",
    "The above steps are not trivial. The application has a lot of classes and a lot of\n",
    "dependencies between them. The application is complex and it is hard to understand\n",
    "how all the classes work together. The application is also hard to maintain. If you\n",
    "want to change the way the application sends emails, you will have to change the\n",
    "code in multiple places. If you want to add a new feature, you will have to change the\n",
    "code in multiple places."
   ]
  },
  {
   "cell_type": "code",
   "execution_count": null,
   "metadata": {},
   "outputs": [],
   "source": [
    "class Order:\n",
    "    def __init__(self):\n",
    "        self.payment_gateway = PaymentGateway()\n",
    "        self.inventory = Inventory()\n",
    "        self.email_service = EmailService()\n",
    "        self.shipping_service = ShippingService()\n",
    "        self.analytics_service = AnalyticsService()\n",
    "\n",
    "    def checkout(self):\n",
    "        self.payment_gateway.charge()\n",
    "        self.inventory.update()\n",
    "        self.email_service.send()\n",
    "        self.shipping_service.add()\n",
    "        self.analytics_service.update()"
   ]
  },
  {
   "cell_type": "markdown",
   "metadata": {},
   "source": [
    "Here we have a lot of dependencies, some of which might be external vendors.\n",
    "The business logic of your classes would become tightly coupled to the\n",
    "implementation details of 3rd-party classes, making it hard to comprehend and\n",
    "maintain. The Order class is hard to test. You will have to mock all the dependencies.\n",
    "The Order class is also hard to reuse. If you want to reuse the Order class in another\n",
    "application, you will have to change the code. Every time one of the logic changes,\n",
    "you will have to change the code in multiple places and hence violating SOLID\n",
    "principles.\n",
    "\n",
    "A facade is a class that provides a simple interface to a complex subsystem which\n",
    "contains lots of moving parts. A facade might provide limited functionality in\n",
    "comparison to working with the subsystem directly. However, it includes only those\n",
    "features that clients really care about.\n",
    "\n",
    "Having a facade is handy when you need to integrate your app with a sophisticated\n",
    "library that has dozens of features, but you just need a tiny bit of its functionality."
   ]
  },
  {
   "cell_type": "markdown",
   "metadata": {},
   "source": [
    "### Solution\n",
    "\n",
    "The Facade pattern suggests that you wrap a complex subsystem with a simpler\n",
    "interface. The Facade pattern provides a higher-level interface that makes the\n",
    "subsystem easier to use. The Facade pattern is implemented by simply creating a\n",
    "new class that encapsulates the complex logic of the existing classes. For our\n",
    "example above, we will move the complex logic to a new class called\n",
    "OrderProcessor."
   ]
  },
  {
   "cell_type": "code",
   "execution_count": null,
   "metadata": {},
   "outputs": [],
   "source": [
    "class OrderProcessor:\n",
    "    def __init__(self):\n",
    "        self.payment_gateway = PaymentGateway()\n",
    "        self.inventory = Inventory()\n",
    "        self.email_service = EmailService()\n",
    "        self.shipping_service = ShippingService()\n",
    "        self.analytics_service = AnalyticsService()\n",
    "\n",
    "    def process(self):\n",
    "        self.payment_gateway.charge()\n",
    "        self.inventory.update()\n",
    "        self.email_service.send()\n",
    "        self.shipping_service.add()\n",
    "        self.analytics_service.update()\n",
    "\n",
    "################################################################\n",
    "# Now we can use the OrderProcessor class in our Order class and delegate the\n",
    "# complex logic to the OrderProcessor class.\n",
    "################################################################\n",
    "\n",
    "class Order:\n",
    "    def __init__(self, order_processor: OrderProcessor):\n",
    "        self.order_processor = order_processor\n",
    "\n",
    "    def checkout(self):\n",
    "        self.order_processor.process()"
   ]
  },
  {
   "cell_type": "markdown",
   "metadata": {},
   "source": [
    "The Order class is now much simpler. It has a single responsibility of creating an\n",
    "order. The Order class is also easier to test. You can mock the OrderProcessor class.\n",
    "The Order class is also easier to reuse. You can reuse the Order class in another\n",
    "application without changing the code."
   ]
  }
 ],
 "metadata": {
  "kernelspec": {
   "display_name": "Python 3",
   "language": "python",
   "name": "python3"
  },
  "language_info": {
   "name": "python",
   "version": "3.10.11"
  }
 },
 "nbformat": 4,
 "nbformat_minor": 2
}
