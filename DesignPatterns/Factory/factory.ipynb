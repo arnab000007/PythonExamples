{
 "cells": [
  {
   "cell_type": "markdown",
   "metadata": {},
   "source": [
    "## Key Terms"
   ]
  },
  {
   "cell_type": "markdown",
   "metadata": {},
   "source": [
    "### Simple factory\n",
    "A simple factory is a static method that returns an instance of a class. It is a\n",
    "static method because it does not need to be instantiated. It is a factory\n",
    "because it creates an instance of a class."
   ]
  },
  {
   "cell_type": "markdown",
   "metadata": {},
   "source": [
    "### Factory method\n",
    "Rather than having a single static method that returns an instance of a class,\n",
    "the factory method pattern uses a class that has a method that returns an\n",
    "instance of a class. This method is not static because it needs to be\n",
    "instantiated."
   ]
  },
  {
   "cell_type": "markdown",
   "metadata": {},
   "source": [
    "### Abstract factory\n",
    "The abstract factory pattern is a factory of factories. It is a factory that creates\n",
    "other factories. It is a factory that creates other factories that create instances\n",
    "of classes."
   ]
  },
  {
   "cell_type": "markdown",
   "metadata": {},
   "source": [
    "### Factory\n",
    "\n",
    "The factory method pattern is a creational pattern that uses factory methods to\n",
    "deal with the problem of creating objects without having to specify the exact\n",
    "class of the object that will be created. This is done by creating objects by\n",
    "calling a factory method—either specified in an interface and implemented by\n",
    "child classes, or implemented in a base class and optionally overridden by\n",
    "derived classes—rather than by calling a constructor."
   ]
  },
  {
   "cell_type": "markdown",
   "metadata": {},
   "source": [
    "One of the motivations for using the prototype is to create a new object\n",
    "without having to know the exact class of the object that will be created. For an\n",
    "instance, there is an external library that we want to use in our application. We donʼt\n",
    "know the exact class of the object that will be created. We just know that the object\n",
    "will have a method called doSomething() . We can use the prototype to create a new\n",
    "object without having to know the exact class of the object that will be created. The\n",
    "library will provide us with a prototype object that we can use to create a new object.\n",
    "But if the library does not expose the prototype object, we will create a prototype\n",
    "object ourselves and use it to create a new object."
   ]
  },
  {
   "cell_type": "markdown",
   "metadata": {},
   "source": [
    "## Simple Factory\n",
    "\n",
    "The simple factory pattern is a creational pattern that provides a static method\n",
    "for creating objects. The method can be used to create objects without having\n",
    "to specify the exact class of the object that will be created. This is done by\n",
    "creating a factory class that contains a static method for creating objects."
   ]
  },
  {
   "cell_type": "markdown",
   "metadata": {},
   "source": [
    "Let us create a simple factory class that can be used to create different types of\n",
    "users. The factory class will have a static method that can be used to create\n",
    "different types of users."
   ]
  },
  {
   "cell_type": "code",
   "execution_count": null,
   "metadata": {},
   "outputs": [],
   "source": [
    "class UserFactory:\n",
    "    @staticmethod\n",
    "    def create_user(role) -> User:\n",
    "        if role == UserRole.STUDENT:\n",
    "            return Student(\"Tantia\", \"Tope\")\n",
    "        elif role == UserRole.TEACHER:\n",
    "            return Teacher(\"Tantia\", \"Tope\")\n",
    "        elif role == UserRole.ADMIN:\n",
    "            return Admin(\"Tantia\", \"Tope\")\n",
    "\n",
    "\n",
    "################################################################\n",
    "# The client code can request a user object from the factory class\n",
    "#without having to know the class of the object that will be returned.\n",
    "################################################################\n",
    "\n",
    "user: User = UserFactory.create_user(UserRole.STUDENT)"
   ]
  },
  {
   "cell_type": "markdown",
   "metadata": {},
   "source": [
    "**The complete steps to implement the simple factory pattern are:**\n",
    "1. **Factory class**: Create a factory class that contains a static method for\n",
    "creating objects.\n",
    "2. **Conditional**: Use a conditional statement to create the object based on the\n",
    "input.\n",
    "3. **Request**: Request an object from the factory class without having to know the\n",
    "class of the object that will be returned."
   ]
  },
  {
   "cell_type": "markdown",
   "metadata": {},
   "source": [
    "## Factory Method\n",
    "\n",
    "The simple factory method is easy to implement, but it has a few drawbacks. The\n",
    "factory class is not extensible. If we want to add a new type of user, we will have to\n",
    "modify the factory class. Also, the factory class is not reusable. If we want to create\n",
    "a factory for creating different types of objects, we will have to create a new factory\n",
    "class. To overcome these drawbacks, we can use the factory method pattern.\n",
    "\n",
    "In the factory method the responsibility of creating the object is shifted to the child\n",
    "classes. The factory method is implemented in the base class and the child classes\n",
    "can override the factory method to create objects of their own type. The factory\n",
    "method is also known as the virtual constructor."
   ]
  },
  {
   "cell_type": "code",
   "execution_count": null,
   "metadata": {},
   "outputs": [
    {
     "ename": "",
     "evalue": "",
     "output_type": "error",
     "traceback": [
      "\u001b[1;31mThe Kernel crashed while executing code in the the current cell or a previous cell. Please review the code in the cell(s) to identify a possible cause of the failure. Click <a href='https://aka.ms/vscodeJupyterKernelCrash'>here</a> for more info. View Jupyter <a href='command:jupyter.viewOutput'>log</a> for further details."
     ]
    }
   ],
   "source": [
    "from abc import ABC, abstractmethod\n",
    "class UserFactory(ABC):\n",
    "    @abstractmethod\n",
    "    def create_user(self, first_name, last_name) -> User:\n",
    "        pass\n",
    "\n",
    "class StudentFactory(UserFactory):\n",
    "    def create_user(self, first_name, last_name) -> Student:\n",
    "        return Student(first_name, last_name)\n",
    "\n",
    "class TeacherFactory(UserFactory):\n",
    "    def create_user(self, first_name, last_name) -> Teacher:\n",
    "        return Teacher(first_name, last_name)\n",
    "    \n",
    "################################################\n",
    "# The client code can request a user object from the base class without having to\n",
    "# know the class of the object that will be returned.\n",
    "################################################\n",
    "\n",
    "factory: UserFactory = TeacherFactory()\n",
    "user: User = factory.createUser(\"Tantia\", \"Tope\")"
   ]
  },
  {
   "cell_type": "markdown",
   "metadata": {},
   "source": [
    "#### The complete steps to implement the factory method pattern are:\n",
    "1. **Base factory Interface**: - Crate a factory class that contains a method for creating a object.\n",
    "2. **Child Factory class**: - Crate a child factory class that extends the base factory class and overrides the factory method to create objects of its own type.\n",
    "3. **Request**: - Request an object from the factory class without having to know the\n",
    "class of the object that will be returned."
   ]
  },
  {
   "cell_type": "markdown",
   "metadata": {},
   "source": [
    "### Abstract Factory\n",
    "\n",
    "The abstract factory pattern is a creational pattern that provides an interface\n",
    "for creating families of related or dependent objects without specifying their\n",
    "concrete classes."
   ]
  },
  {
   "cell_type": "markdown",
   "metadata": {},
   "source": [
    "Let us take the example of a classroom. We have already created a User abstract\n",
    "class. Now we will create the concrete classes Student and Teacher . To restrict\n",
    "the usage of subclasses, we can create factories for each of the concrete classes.\n",
    "\n",
    "The StudentFactory will be used to create Student objects and the\n",
    "TeacherFactory will be used to create Teacher objects."
   ]
  },
  {
   "cell_type": "code",
   "execution_count": null,
   "metadata": {},
   "outputs": [],
   "source": [
    "class StudentFactory(UserFactory):\n",
    "    def create_user(self, first_name, last_name) -> Student:\n",
    "        return Student(first_name, last_name)\n",
    "\n",
    "class TeacherFactory(UserFactory):\n",
    "    def create_user(self, first_name, last_name) -> Teacher:\n",
    "        return Teacher(first_name, last_name)\n",
    "\n",
    "################################################################\n",
    "# So now in order to create a classroom, we can use the respective factories to create\n",
    "# the objects.\n",
    "################################################################\n",
    "\n",
    "student_factory: UserFactory = StudentFactory()\n",
    "student: User = student_factory.create_user(\"Tantia\", \"Tope\")\n",
    "\n",
    "teacher_factory: UserFactory = TeacherFactory()\n",
    "teacher: User = teacher_factory.create_user(\"Tantia\", \"Tope\")"
   ]
  },
  {
   "cell_type": "markdown",
   "metadata": {},
   "source": [
    "But now we have a problem, we can use the factories to create any type of student\n",
    "and teacher. Should a teacher teaching Physics be able to teach a student of Biology\n",
    "class? This is where the concept of related or a family of objects comes into play.\n",
    "The Student and Teacher objects are related to each other. A teacher should only\n",
    "be able to teach a student of the same class. So we can create a factory that can\n",
    "create a family of related objects. The ClassroomFactory will be used to create\n",
    "Student and Teacher objects of the same class."
   ]
  },
  {
   "cell_type": "code",
   "execution_count": null,
   "metadata": {},
   "outputs": [],
   "source": [
    "from abc import ABC, abstractmethod\n",
    "class ClassroomFactory(ABC):\n",
    "    @abstractmethod\n",
    "    def create_student(self, first_name, last_name) -> Student:\n",
    "        pass\n",
    "    \n",
    "    @abstractmethod\n",
    "    def create_teacher(self, first_name, last_name) -> Teacher:\n",
    "        pass\n",
    "\n",
    "################################################################\n",
    "# Now we can create concrete factories for each family of related \n",
    "# objects that we want to create.\n",
    "################################################################\n",
    "\n",
    "class BiologyClassroomFactory(ClassroomFactory):\n",
    "    def create_student(self, first_name, last_name) -> Student:\n",
    "        return BiologyStudent(first_name, last_name)\n",
    "    \n",
    "    def create_teacher(self, first_name, last_name) -> Teacher:\n",
    "        return BiologyTeacher(first_name, last_name)"
   ]
  },
  {
   "cell_type": "markdown",
   "metadata": {},
   "source": [
    "The class ClassroomFactory is an abstract class that contains the factory methods\n",
    "for creating the objects. The child classes can override the factory methods to\n",
    "create objects of their own type. The client code can request an object from the\n",
    "factory class without having to know the class of the object that will be returned."
   ]
  },
  {
   "cell_type": "code",
   "execution_count": null,
   "metadata": {},
   "outputs": [],
   "source": [
    "factory: ClassroomFactory = BiologyClassroomFactory()\n",
    "student: Student = factory.create_student(\"Tantia\", \"Tope\")\n",
    "teacher: Teacher = factory.create_teacher(\"Tantia\", \"Tope\")"
   ]
  },
  {
   "cell_type": "markdown",
   "metadata": {},
   "source": [
    "The class ClassroomFactory becomes our abstract factory that essentially is a\n",
    "factory of factories."
   ]
  },
  {
   "cell_type": "markdown",
   "metadata": {},
   "source": [
    "#### Advantages of Abstract Factory\n",
    "\n",
    "- **Isolate concrete classes** - The client code is not coupled to the concrete\n",
    "classes of the objects that it creates.\n",
    "- **Easy to exchange product families** - The client code can request an object\n",
    "from the factory class without having to know the class of the object that will be\n",
    "returned. This makes it easy to exchange product families.\n",
    "- **Promotes consistency among products** - The client code can request an\n",
    "object from the factory class without having to know the class of the object that\n",
    "will be returned. This makes it easy to maintain consistency among products."
   ]
  },
  {
   "cell_type": "markdown",
   "metadata": {},
   "source": [
    "### Implementation\n"
   ]
  },
  {
   "cell_type": "markdown",
   "metadata": {},
   "source": [
    "#### 1. Abstract product interface -\n",
    "\n",
    "Create an interface for the products that will be\n",
    "created by the factory."
   ]
  },
  {
   "cell_type": "code",
   "execution_count": null,
   "metadata": {},
   "outputs": [],
   "source": [
    "class Button(ABC):\n",
    "    @abstractmethod\n",
    "    def render(self) -> None:\n",
    "        pass\n",
    "    \n",
    "    @abstractmethod\n",
    "    def on_click(self) -> None:\n",
    "        pass"
   ]
  },
  {
   "cell_type": "markdown",
   "metadata": {},
   "source": [
    "#### 2. Concrete products - \n",
    "\n",
    "Create concrete classes that implement the product\n",
    "interface."
   ]
  },
  {
   "cell_type": "code",
   "execution_count": null,
   "metadata": {},
   "outputs": [],
   "source": [
    "class RoundedButton(Button):\n",
    "    def render(self) -> None:\n",
    "        print(\"Rendered rounded button\")\n",
    "        \n",
    "    def on_click(self) -> None:\n",
    "        print(\"Clicked rounded button\")"
   ]
  },
  {
   "cell_type": "markdown",
   "metadata": {},
   "source": [
    "#### 3. Abstract factory interface - \n",
    "\n",
    "Create an interface for the abstract factory that\n",
    "will be used to create the products."
   ]
  },
  {
   "cell_type": "code",
   "execution_count": null,
   "metadata": {},
   "outputs": [],
   "source": [
    "class FormFactory(ABC):\n",
    "    @abstractmethod\n",
    "    def create_button(self) -> Button:\n",
    "        pass"
   ]
  },
  {
   "cell_type": "markdown",
   "metadata": {},
   "source": [
    "#### 4. Concrete factories\n",
    "\n",
    "Create concrete classes that implement the abstract\n",
    "factory interface."
   ]
  },
  {
   "cell_type": "code",
   "execution_count": null,
   "metadata": {},
   "outputs": [],
   "source": [
    "class RoundedFormFactory(FormFactory):\n",
    "    def create_button(self) -> Button:\n",
    "        return RoundedButton()"
   ]
  },
  {
   "cell_type": "markdown",
   "metadata": {},
   "source": [
    "#### 5. Client code -\n",
    "\n",
    "Request an object from the factory class without having to know\n",
    "the class of the object that will be returned."
   ]
  },
  {
   "cell_type": "code",
   "execution_count": null,
   "metadata": {},
   "outputs": [],
   "source": [
    "factory: FormFactory = RoundedFormFactory()\n",
    "button: Button = factory.create_button()"
   ]
  }
 ],
 "metadata": {
  "kernelspec": {
   "display_name": "Python 3",
   "language": "python",
   "name": "python3"
  },
  "language_info": {
   "codemirror_mode": {
    "name": "ipython",
    "version": 3
   },
   "file_extension": ".py",
   "mimetype": "text/x-python",
   "name": "python",
   "nbconvert_exporter": "python",
   "pygments_lexer": "ipython3",
   "version": "3.10.11"
  }
 },
 "nbformat": 4,
 "nbformat_minor": 2
}
