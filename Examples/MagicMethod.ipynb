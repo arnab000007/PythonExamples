{
 "cells": [
  {
   "cell_type": "markdown",
   "metadata": {},
   "source": [
    "## Python Magic Methods"
   ]
  },
  {
   "cell_type": "markdown",
   "metadata": {},
   "source": [
    "### Initialization and Construction\n",
    "\n",
    "- __new__: To get called in an object’s instantiation.\n",
    "- __init__: To get called by the __new__ method.\n",
    "- __del__: It is the destructor."
   ]
  },
  {
   "cell_type": "markdown",
   "metadata": {},
   "source": [
    "### __new__\n",
    "\n",
    "Whenever a class is instantiated __new__ and __init__ methods are called. __new__ method will be called when an object is created and __init__ method will be called to initialize the object. In the base class object, the __new__ method is defined as a static method which requires to pass a parameter cls. cls represents the class that is needed to be instantiated, and the compiler automatically provides this parameter at the time of instantiation.\n",
    "\n",
    "If both __init__ method and __new__ method exists in the class, then the __new__ method is executed first and decides whether to use __init__ method or not, because other class constructors can be called by __new__ method or it can simply return other objects as an instance of this class."
   ]
  },
  {
   "cell_type": "code",
   "execution_count": 1,
   "metadata": {},
   "outputs": [
    {
     "name": "stdout",
     "output_type": "stream",
     "text": [
      "Creating instance\n",
      "Init is called\n"
     ]
    },
    {
     "data": {
      "text/plain": [
       "<__main__.A at 0x22aa841d360>"
      ]
     },
     "execution_count": 1,
     "metadata": {},
     "output_type": "execute_result"
    }
   ],
   "source": [
    "class A(object): \n",
    "    def __new__(cls): \n",
    "         print(\"Creating instance\") \n",
    "         return super(A, cls).__new__(cls) \n",
    "  \n",
    "    def __init__(self): \n",
    "        print(\"Init is called\") \n",
    "  \n",
    "A() "
   ]
  },
  {
   "cell_type": "markdown",
   "metadata": {},
   "source": [
    "The above example shows that __new__ method is called automatically when calling the class name, whereas __init__ method is called every time an instance of the class is returned by __new__ method, passing the returned instance to __init__ as the self parameter, therefore even if you were to save the instance somewhere globally/statically and return it every time from __new__, then __init__ will be called every time you do just that.\n",
    "\n",
    "This means that if the super is omitted for __new__ method the __init__ method will not be executed. Let’s see if that is the case."
   ]
  },
  {
   "cell_type": "code",
   "execution_count": 2,
   "metadata": {},
   "outputs": [
    {
     "name": "stdout",
     "output_type": "stream",
     "text": [
      "Creating instance\n",
      "None\n"
     ]
    }
   ],
   "source": [
    "class A(object): \n",
    "    def __new__(cls): \n",
    "        print(\"Creating instance\") \n",
    "  \n",
    "    # It is not called \n",
    "    def __init__(self): \n",
    "        print(\"Init is called\") \n",
    "  \n",
    "print(A()) "
   ]
  },
  {
   "cell_type": "markdown",
   "metadata": {},
   "source": [
    "In the above example, it can be seen that __init__ method is not called and the instantiation is evaluated to be None because the constructor is not returning anything."
   ]
  }
 ],
 "metadata": {
  "kernelspec": {
   "display_name": "Python 3",
   "language": "python",
   "name": "python3"
  },
  "language_info": {
   "codemirror_mode": {
    "name": "ipython",
    "version": 3
   },
   "file_extension": ".py",
   "mimetype": "text/x-python",
   "name": "python",
   "nbconvert_exporter": "python",
   "pygments_lexer": "ipython3",
   "version": "3.10.11"
  }
 },
 "nbformat": 4,
 "nbformat_minor": 2
}
